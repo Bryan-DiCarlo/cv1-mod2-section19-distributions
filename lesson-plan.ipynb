{
 "cells": [
  {
   "cell_type": "markdown",
   "metadata": {},
   "source": [
    "### Questions"
   ]
  },
  {
   "cell_type": "markdown",
   "metadata": {},
   "source": [
    "### Objectives\n",
    "YWBAT \n",
    "* Solve problems using poisson distributions\n",
    "* Solve problems using geometric distributions\n",
    "* Explain how the central limit theorem is applied to make claims on a population"
   ]
  },
  {
   "cell_type": "markdown",
   "metadata": {},
   "source": [
    "### Outline"
   ]
  },
  {
   "cell_type": "code",
   "execution_count": null,
   "metadata": {},
   "outputs": [],
   "source": [
    "import pandas as pd\n",
    "import numpy as np\n",
    "\n",
    "import matplotlib.pyplot as plt"
   ]
  },
  {
   "cell_type": "markdown",
   "metadata": {},
   "source": [
    "### Poisson distribution problems\n",
    "The Hulk smashes 17 items on average during a 6 minute time period.\n",
    "\n",
    "a) Calculate the probability that Hulk smashes 10 items in 6 minutes.\n",
    "\n",
    "b) Calculate the probability that Hulk smashes at least 1 item in 3 minutes.\n",
    "\n",
    "c) During a ten minute period, what is the probability that 15 items are smashed?\n",
    "\n",
    "----------------\n",
    "<details>\n",
    "    <summary>Solutions Here</summary>\n",
    "    \n",
    "    a) $$p = \\frac{\\lambda^x \\times e^{-\\lambda}}{x!} = \\frac{\\frac{17}{6}^x \\times e^{-\\frac{17}{6}}}{x!}$$\n",
    "    \n",
    "    Plug in 10 for x\n",
    "       \n",
    "       $$p = \\frac{\\frac{17}{6}^{10} \\times e^{-\\frac{17}{6}}}{10!}$$\n",
    "       \n",
    "       calculate \n",
    "       $$p = 0.033 = 3.3\\%$$\n",
    "            \n",
    "     b) Start by converting lambda to match our time interval\n",
    "    \n",
    "        $$p = \\frac{\\frac{8.5}{3}^x \\times e^{-\\frac{8.5}{3}}}{x!}$$\n",
    "        \n",
    "    Plug in 1 for x\n",
    "        \n",
    "        $$p = \\frac{\\frac{17}{6}^1 \\times e^{-\\frac{17}{6}}}{1!}$$\n",
    "    \n",
    "    Calculate\n",
    "    \n",
    "        $$ p = 16.67\\%$$\n",
    "    \n",
    "    c) Left as an exercise for the reader\n",
    "    \n",
    "</details>"
   ]
  },
  {
   "cell_type": "markdown",
   "metadata": {},
   "source": [
    "### Binomial/Geometric distribution problems\n",
    "Assume that 12% of the population pours their cereal on their milk. We choose 11 people at random.\n",
    "\n",
    "a) What is the probability that the first person who pours milk on their cereal is the 4th person chosen?\n",
    "\n",
    "b) What is the probability that the first person who pours milk on their cereal is the 4th or 5th person chosen?\n",
    "\n",
    "c) There are exactly 5 people who pour their cereal on their milk in the group?\n",
    "\n",
    "----------------------\n",
    "\n",
    "<details>\n",
    "    <summary>Solutions Here</summary>\n",
    "    \n",
    "    a) $$ p = 0.12^3 \\times 0.88 = 0.0015 = .15\\% $$\n",
    "    \n",
    "    b) $$ p = p(4) + p(5) = 0.12^3 \\times 0.88 + 0.12^4 \\times 0.88 = 0.0017 = 0.17\\% $$\n",
    "    \n",
    "    c) $$ p = {11 \\choose 8} 0.12^5 \\times 0.88^6 = 0.0020 = 0.20\\%$$\n",
    "    \n",
    "</details>"
   ]
  },
  {
   "cell_type": "markdown",
   "metadata": {},
   "source": [
    "### What does the central limit state? "
   ]
  },
  {
   "cell_type": "code",
   "execution_count": null,
   "metadata": {},
   "outputs": [],
   "source": [
    "# Here's a population of 10,000 people between the ages of 10 and 60\n",
    "population = np.random.randint(10, 60, 10000)\n",
    "\n",
    "# this is the mean of the population\n",
    "pop_mean = population.mean()\n",
    "pop_mean"
   ]
  },
  {
   "cell_type": "code",
   "execution_count": null,
   "metadata": {},
   "outputs": [],
   "source": [
    "# Let's do some sampling and see if we can get to the mean\n",
    "samp_means = []\n",
    "for i in range(50):\n",
    "    sample = np.random.choice(population, size=30, replace=False)\n",
    "    samp_means.append(sample.mean())\n",
    "np.mean(samp_means)"
   ]
  },
  {
   "cell_type": "code",
   "execution_count": null,
   "metadata": {},
   "outputs": [],
   "source": []
  },
  {
   "cell_type": "code",
   "execution_count": null,
   "metadata": {},
   "outputs": [],
   "source": []
  },
  {
   "cell_type": "code",
   "execution_count": null,
   "metadata": {},
   "outputs": [],
   "source": []
  },
  {
   "cell_type": "markdown",
   "metadata": {},
   "source": [
    "### Assessment"
   ]
  }
 ],
 "metadata": {
  "kernelspec": {
   "display_name": "Python 3",
   "language": "python",
   "name": "python3"
  },
  "language_info": {
   "codemirror_mode": {
    "name": "ipython",
    "version": 3
   },
   "file_extension": ".py",
   "mimetype": "text/x-python",
   "name": "python",
   "nbconvert_exporter": "python",
   "pygments_lexer": "ipython3",
   "version": "3.6.4"
  }
 },
 "nbformat": 4,
 "nbformat_minor": 2
}
